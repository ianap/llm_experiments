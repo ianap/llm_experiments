{
 "cells": [
  {
   "cell_type": "markdown",
   "metadata": {},
   "source": [
    "---\n",
    "### The main objective is to experiment with OpenAI API  to extract the list of subject of the issues reported in the review.\n",
    "1. USE GPT4 Generate a list of reviews.\n",
    "2. For each  Review from our sample dataset we will generate a list of issues with prompt. \n",
    "4. We also have a list of curated issues\n",
    "5. Using embedding we will map reviews generated issue to the curated list of issue. This will help to map reviews+issues\n",
    "---"
   ]
  },
  {
   "cell_type": "code",
   "execution_count": 1,
   "metadata": {},
   "outputs": [],
   "source": [
    "import openai\n",
    "import os\n",
    "import pandas as pd\n",
    "from tqdm import tqdm"
   ]
  },
  {
   "cell_type": "code",
   "execution_count": 2,
   "metadata": {},
   "outputs": [],
   "source": [
    "from dotenv import load_dotenv, find_dotenv\n",
    "_ = load_dotenv(find_dotenv()) # read local .env file\n",
    "\n",
    "openai.api_key  = os.environ['OPENAI_API_KEY']"
   ]
  },
  {
   "cell_type": "code",
   "execution_count": 3,
   "metadata": {},
   "outputs": [],
   "source": [
    "# helper function\n",
    "def get_completion(promt, model='gpt-3.5-turbo'):\n",
    "    messages =[{\"role\":\"user\",\"content\":promt}]\n",
    "    response = openai.ChatCompletion.create(\n",
    "        model=model,\n",
    "        messages = messages,\n",
    "        temperature = 0\n",
    "    )\n",
    "    \n",
    "    return response.choices[0].message[\"content\"]"
   ]
  },
  {
   "cell_type": "markdown",
   "metadata": {},
   "source": [
    "### Step 1: Generate 20 sample reviews with ChatGPT:\n",
    "\n",
    "Output \"generated reviews\":"
   ]
  },
  {
   "cell_type": "code",
   "execution_count": 4,
   "metadata": {},
   "outputs": [],
   "source": [
    "generated_reviews = [\"Enhance cleanliness in the patient rooms and common areas.\",\n",
    "\"Provide more diverse and nutritious meal options for patients.\",\n",
    "\"Ensure that all medical staff consistently wear identification badges.\",\n",
    "\"Improve the efficiency of the billing process to avoid unnecessary delays.\",\n",
    "\"Increase the frequency of nurse rounds, especially during the night.\",\n",
    "\"Offer more comprehensive and clear discharge instructions.\",\n",
    "\"Upgrade the in-room entertainment and Wi-Fi services for patients.\",\n",
    "\"Ensure that all staff adhere to noise reduction protocols, particularly during sleeping hours.\",\n",
    "\"Provide more comfortable bedding and pillows for patients.\",\n",
    "\"Enhance patient privacy during consultations and examinations.\",\n",
    "\"Improve the clarity and frequency of communication regarding treatment plans.\",\n",
    "\"Ensure timely and accurate updating of patient records.\",\n",
    "\"Increase the availability of specialists for consultations.\",\n",
    "\"Provide additional seating and amenities for visitors in patient rooms.\",\n",
    "\"Offer more accessible and clear channels for providing patient feedback.\",\n",
    "\"Ensure that all patient concerns and complaints are addressed promptly.\",\n",
    "\"Improve the availability and accessibility of patient transport within the facility.\",\n",
    "\"Enhance the training of staff in handling patient queries and concerns.\",\n",
    "\"Improve the signage and wayfinding tools within the hospital to assist patients and visitors.\",\n",
    "\"Ensure that all medical equipment is in good working order and is regularly maintained.\"]"
   ]
  },
  {
   "cell_type": "markdown",
   "metadata": {},
   "source": [
    "Save reviews into one data frame:"
   ]
  },
  {
   "cell_type": "code",
   "execution_count": 5,
   "metadata": {},
   "outputs": [],
   "source": [
    "df_reviews = pd.DataFrame(generated_reviews, columns=['review'])"
   ]
  },
  {
   "cell_type": "code",
   "execution_count": 6,
   "metadata": {},
   "outputs": [
    {
     "data": {
      "text/html": [
       "<div>\n",
       "<style scoped>\n",
       "    .dataframe tbody tr th:only-of-type {\n",
       "        vertical-align: middle;\n",
       "    }\n",
       "\n",
       "    .dataframe tbody tr th {\n",
       "        vertical-align: top;\n",
       "    }\n",
       "\n",
       "    .dataframe thead th {\n",
       "        text-align: right;\n",
       "    }\n",
       "</style>\n",
       "<table border=\"1\" class=\"dataframe\">\n",
       "  <thead>\n",
       "    <tr style=\"text-align: right;\">\n",
       "      <th></th>\n",
       "      <th>review</th>\n",
       "    </tr>\n",
       "  </thead>\n",
       "  <tbody>\n",
       "    <tr>\n",
       "      <th>0</th>\n",
       "      <td>Enhance cleanliness in the patient rooms and c...</td>\n",
       "    </tr>\n",
       "    <tr>\n",
       "      <th>1</th>\n",
       "      <td>Provide more diverse and nutritious meal optio...</td>\n",
       "    </tr>\n",
       "    <tr>\n",
       "      <th>2</th>\n",
       "      <td>Ensure that all medical staff consistently wea...</td>\n",
       "    </tr>\n",
       "    <tr>\n",
       "      <th>3</th>\n",
       "      <td>Improve the efficiency of the billing process ...</td>\n",
       "    </tr>\n",
       "    <tr>\n",
       "      <th>4</th>\n",
       "      <td>Increase the frequency of nurse rounds, especi...</td>\n",
       "    </tr>\n",
       "  </tbody>\n",
       "</table>\n",
       "</div>"
      ],
      "text/plain": [
       "                                              review\n",
       "0  Enhance cleanliness in the patient rooms and c...\n",
       "1  Provide more diverse and nutritious meal optio...\n",
       "2  Ensure that all medical staff consistently wea...\n",
       "3  Improve the efficiency of the billing process ...\n",
       "4  Increase the frequency of nurse rounds, especi..."
      ]
     },
     "execution_count": 6,
     "metadata": {},
     "output_type": "execute_result"
    }
   ],
   "source": [
    "df_reviews.head()"
   ]
  },
  {
   "cell_type": "markdown",
   "metadata": {},
   "source": [
    "### Test a sample prompts"
   ]
  },
  {
   "cell_type": "code",
   "execution_count": 7,
   "metadata": {},
   "outputs": [],
   "source": [
    "def get_issue(review_i):\n",
    "    prompt = \"\"\" \n",
    "            I have reviews, each review reports the area of improvemnet, \n",
    "            summarise the review to focus only on issue details,\n",
    "            return only 4-7 words that indicate the issue only,\n",
    "            if review has multiple issues,report all issues from the review comma separete, \n",
    "            below are examples. \n",
    "            Review: \"The staff at the reception who took appointments were rude and their attitude needs to be improved.\"\n",
    "            issue: rude attitude\n",
    "            ###\n",
    "            Review: {}\n",
    "            issue\"\"\".format(review_i)\n",
    "    return get_completion(prompt)"
   ]
  },
  {
   "cell_type": "code",
   "execution_count": 8,
   "metadata": {},
   "outputs": [],
   "source": [
    "df_reviews[\"issue\"]=df_reviews['review'].apply(lambda x:get_issue(x))"
   ]
  },
  {
   "cell_type": "code",
   "execution_count": 9,
   "metadata": {},
   "outputs": [
    {
     "data": {
      "text/html": [
       "<div>\n",
       "<style scoped>\n",
       "    .dataframe tbody tr th:only-of-type {\n",
       "        vertical-align: middle;\n",
       "    }\n",
       "\n",
       "    .dataframe tbody tr th {\n",
       "        vertical-align: top;\n",
       "    }\n",
       "\n",
       "    .dataframe thead th {\n",
       "        text-align: right;\n",
       "    }\n",
       "</style>\n",
       "<table border=\"1\" class=\"dataframe\">\n",
       "  <thead>\n",
       "    <tr style=\"text-align: right;\">\n",
       "      <th></th>\n",
       "      <th>review</th>\n",
       "      <th>issue</th>\n",
       "    </tr>\n",
       "  </thead>\n",
       "  <tbody>\n",
       "    <tr>\n",
       "      <th>0</th>\n",
       "      <td>Enhance cleanliness in the patient rooms and c...</td>\n",
       "      <td>cleanliness</td>\n",
       "    </tr>\n",
       "    <tr>\n",
       "      <th>1</th>\n",
       "      <td>Provide more diverse and nutritious meal optio...</td>\n",
       "      <td>diverse, nutritious meal options</td>\n",
       "    </tr>\n",
       "    <tr>\n",
       "      <th>2</th>\n",
       "      <td>Ensure that all medical staff consistently wea...</td>\n",
       "      <td>identification badges</td>\n",
       "    </tr>\n",
       "    <tr>\n",
       "      <th>3</th>\n",
       "      <td>Improve the efficiency of the billing process ...</td>\n",
       "      <td>efficiency, billing process, unnecessary delays</td>\n",
       "    </tr>\n",
       "    <tr>\n",
       "      <th>4</th>\n",
       "      <td>Increase the frequency of nurse rounds, especi...</td>\n",
       "      <td>Increase frequency of nurse rounds</td>\n",
       "    </tr>\n",
       "    <tr>\n",
       "      <th>5</th>\n",
       "      <td>Offer more comprehensive and clear discharge i...</td>\n",
       "      <td>comprehensive, clear discharge instructions</td>\n",
       "    </tr>\n",
       "    <tr>\n",
       "      <th>6</th>\n",
       "      <td>Upgrade the in-room entertainment and Wi-Fi se...</td>\n",
       "      <td>in-room entertainment, Wi-Fi services</td>\n",
       "    </tr>\n",
       "    <tr>\n",
       "      <th>7</th>\n",
       "      <td>Ensure that all staff adhere to noise reductio...</td>\n",
       "      <td>noise reduction protocols</td>\n",
       "    </tr>\n",
       "    <tr>\n",
       "      <th>8</th>\n",
       "      <td>Provide more comfortable bedding and pillows f...</td>\n",
       "      <td>comfortable bedding, pillows</td>\n",
       "    </tr>\n",
       "    <tr>\n",
       "      <th>9</th>\n",
       "      <td>Enhance patient privacy during consultations a...</td>\n",
       "      <td>patient privacy</td>\n",
       "    </tr>\n",
       "    <tr>\n",
       "      <th>10</th>\n",
       "      <td>Improve the clarity and frequency of communica...</td>\n",
       "      <td>clarity, frequency, communication, treatment p...</td>\n",
       "    </tr>\n",
       "    <tr>\n",
       "      <th>11</th>\n",
       "      <td>Ensure timely and accurate updating of patient...</td>\n",
       "      <td>timely updating, accurate records</td>\n",
       "    </tr>\n",
       "    <tr>\n",
       "      <th>12</th>\n",
       "      <td>Increase the availability of specialists for c...</td>\n",
       "      <td>availability of specialists</td>\n",
       "    </tr>\n",
       "    <tr>\n",
       "      <th>13</th>\n",
       "      <td>Provide additional seating and amenities for v...</td>\n",
       "      <td>additional seating, amenities</td>\n",
       "    </tr>\n",
       "    <tr>\n",
       "      <th>14</th>\n",
       "      <td>Offer more accessible and clear channels for p...</td>\n",
       "      <td>: inaccessible feedback channels</td>\n",
       "    </tr>\n",
       "    <tr>\n",
       "      <th>15</th>\n",
       "      <td>Ensure that all patient concerns and complaint...</td>\n",
       "      <td>patient concerns, complaints addressed promptly</td>\n",
       "    </tr>\n",
       "    <tr>\n",
       "      <th>16</th>\n",
       "      <td>Improve the availability and accessibility of ...</td>\n",
       "      <td>availability, accessibility, patient transport</td>\n",
       "    </tr>\n",
       "    <tr>\n",
       "      <th>17</th>\n",
       "      <td>Enhance the training of staff in handling pati...</td>\n",
       "      <td>training, handling queries, concerns</td>\n",
       "    </tr>\n",
       "    <tr>\n",
       "      <th>18</th>\n",
       "      <td>Improve the signage and wayfinding tools withi...</td>\n",
       "      <td>signage, wayfinding tools</td>\n",
       "    </tr>\n",
       "    <tr>\n",
       "      <th>19</th>\n",
       "      <td>Ensure that all medical equipment is in good w...</td>\n",
       "      <td>: equipment maintenance</td>\n",
       "    </tr>\n",
       "  </tbody>\n",
       "</table>\n",
       "</div>"
      ],
      "text/plain": [
       "                                               review  \\\n",
       "0   Enhance cleanliness in the patient rooms and c...   \n",
       "1   Provide more diverse and nutritious meal optio...   \n",
       "2   Ensure that all medical staff consistently wea...   \n",
       "3   Improve the efficiency of the billing process ...   \n",
       "4   Increase the frequency of nurse rounds, especi...   \n",
       "5   Offer more comprehensive and clear discharge i...   \n",
       "6   Upgrade the in-room entertainment and Wi-Fi se...   \n",
       "7   Ensure that all staff adhere to noise reductio...   \n",
       "8   Provide more comfortable bedding and pillows f...   \n",
       "9   Enhance patient privacy during consultations a...   \n",
       "10  Improve the clarity and frequency of communica...   \n",
       "11  Ensure timely and accurate updating of patient...   \n",
       "12  Increase the availability of specialists for c...   \n",
       "13  Provide additional seating and amenities for v...   \n",
       "14  Offer more accessible and clear channels for p...   \n",
       "15  Ensure that all patient concerns and complaint...   \n",
       "16  Improve the availability and accessibility of ...   \n",
       "17  Enhance the training of staff in handling pati...   \n",
       "18  Improve the signage and wayfinding tools withi...   \n",
       "19  Ensure that all medical equipment is in good w...   \n",
       "\n",
       "                                                issue  \n",
       "0                                         cleanliness  \n",
       "1                    diverse, nutritious meal options  \n",
       "2                               identification badges  \n",
       "3     efficiency, billing process, unnecessary delays  \n",
       "4                  Increase frequency of nurse rounds  \n",
       "5         comprehensive, clear discharge instructions  \n",
       "6               in-room entertainment, Wi-Fi services  \n",
       "7                           noise reduction protocols  \n",
       "8                        comfortable bedding, pillows  \n",
       "9                                     patient privacy  \n",
       "10  clarity, frequency, communication, treatment p...  \n",
       "11                  timely updating, accurate records  \n",
       "12                        availability of specialists  \n",
       "13                      additional seating, amenities  \n",
       "14                   : inaccessible feedback channels  \n",
       "15    patient concerns, complaints addressed promptly  \n",
       "16     availability, accessibility, patient transport  \n",
       "17               training, handling queries, concerns  \n",
       "18                          signage, wayfinding tools  \n",
       "19                            : equipment maintenance  "
      ]
     },
     "execution_count": 9,
     "metadata": {},
     "output_type": "execute_result"
    }
   ],
   "source": [
    "df_reviews.head(25)"
   ]
  },
  {
   "cell_type": "markdown",
   "metadata": {},
   "source": [
    "### Get The most similar issue. We will use embedding to find similar issues:"
   ]
  },
  {
   "cell_type": "code",
   "execution_count": 10,
   "metadata": {},
   "outputs": [],
   "source": [
    "import tiktoken\n",
    "from openai.embeddings_utils import get_embedding,cosine_similarity"
   ]
  },
  {
   "cell_type": "code",
   "execution_count": 11,
   "metadata": {},
   "outputs": [
    {
     "data": {
      "text/html": [
       "<div>\n",
       "<style scoped>\n",
       "    .dataframe tbody tr th:only-of-type {\n",
       "        vertical-align: middle;\n",
       "    }\n",
       "\n",
       "    .dataframe tbody tr th {\n",
       "        vertical-align: top;\n",
       "    }\n",
       "\n",
       "    .dataframe thead th {\n",
       "        text-align: right;\n",
       "    }\n",
       "</style>\n",
       "<table border=\"1\" class=\"dataframe\">\n",
       "  <thead>\n",
       "    <tr style=\"text-align: right;\">\n",
       "      <th></th>\n",
       "      <th>issue</th>\n",
       "    </tr>\n",
       "  </thead>\n",
       "  <tbody>\n",
       "    <tr>\n",
       "      <th>0</th>\n",
       "      <td>communication barrier (unable to speak patient...</td>\n",
       "    </tr>\n",
       "    <tr>\n",
       "      <th>1</th>\n",
       "      <td>unclear explanation of condition/treatment</td>\n",
       "    </tr>\n",
       "    <tr>\n",
       "      <th>2</th>\n",
       "      <td>unclear explanation of medication/side effects</td>\n",
       "    </tr>\n",
       "    <tr>\n",
       "      <th>3</th>\n",
       "      <td>healthcare team/department does not communicat...</td>\n",
       "    </tr>\n",
       "    <tr>\n",
       "      <th>4</th>\n",
       "      <td>improper handover between shifts</td>\n",
       "    </tr>\n",
       "  </tbody>\n",
       "</table>\n",
       "</div>"
      ],
      "text/plain": [
       "                                               issue\n",
       "0  communication barrier (unable to speak patient...\n",
       "1         unclear explanation of condition/treatment\n",
       "2     unclear explanation of medication/side effects\n",
       "3  healthcare team/department does not communicat...\n",
       "4                   improper handover between shifts"
      ]
     },
     "execution_count": 11,
     "metadata": {},
     "output_type": "execute_result"
    }
   ],
   "source": [
    "reference_df = pd.read_csv(\"reference_issues.csv\")\n",
    "reference_df.head()"
   ]
  },
  {
   "cell_type": "markdown",
   "metadata": {},
   "source": [
    "## Embedding model `davinci-001`:"
   ]
  },
  {
   "cell_type": "code",
   "execution_count": 12,
   "metadata": {},
   "outputs": [],
   "source": [
    "embedding_model=\"text-similarity-davinci-001\""
   ]
  },
  {
   "cell_type": "code",
   "execution_count": 13,
   "metadata": {},
   "outputs": [],
   "source": [
    "def get_embedding(text, model):\n",
    "   text = text.replace(\"\\n\", \" \")\n",
    "   return openai.Embedding.create(input = [text], model=model)['data'][0]['embedding']"
   ]
  },
  {
   "cell_type": "code",
   "execution_count": 14,
   "metadata": {},
   "outputs": [],
   "source": [
    "# This may take a few minutes\n",
    "df_reviews[\"issues_embedding\"] = df_reviews[\"issue\"].apply(lambda x: get_embedding(str(x), model=embedding_model))\n"
   ]
  },
  {
   "cell_type": "markdown",
   "metadata": {},
   "source": [
    "### Reference Issues embeddings:\n"
   ]
  },
  {
   "cell_type": "code",
   "execution_count": 16,
   "metadata": {},
   "outputs": [],
   "source": [
    "reference_df[\"issues_embedding\"] = reference_df[\"issue\"].apply(lambda x: get_embedding(str(x), model=embedding_model))"
   ]
  },
  {
   "cell_type": "markdown",
   "metadata": {},
   "source": [
    "### Use cosine similarity to map \"generated issues\" to \"reference issues\""
   ]
  },
  {
   "cell_type": "code",
   "execution_count": 17,
   "metadata": {},
   "outputs": [],
   "source": [
    "import numpy as np\n",
    "from sklearn.metrics.pairwise import cosine_similarity\n",
    "# Convert embedding columns to numpy arrays\n",
    "issue_embeddings = np.stack(df_reviews['issues_embedding'].values)\n",
    "issue_embeddings_2 = np.stack(reference_df['issues_embedding'].values)\n",
    "\n",
    "# Compute cosine similarity\n",
    "similarity_matrix = cosine_similarity(issue_embeddings, issue_embeddings_2)\n",
    "\n"
   ]
  },
  {
   "cell_type": "code",
   "execution_count": 18,
   "metadata": {},
   "outputs": [],
   "source": [
    "# Get the index of the best matching Subject-Issue pair for each review\n",
    "best_match_indices = np.argmax(similarity_matrix, axis=1)\n",
    "\n",
    "# Assign the best matching Subject-Issue pair to each review\n",
    "df_reviews['best_matching_issue'] = reference_df.iloc[best_match_indices]['issue'].values"
   ]
  },
  {
   "cell_type": "code",
   "execution_count": 19,
   "metadata": {},
   "outputs": [
    {
     "data": {
      "text/html": [
       "<div>\n",
       "<style scoped>\n",
       "    .dataframe tbody tr th:only-of-type {\n",
       "        vertical-align: middle;\n",
       "    }\n",
       "\n",
       "    .dataframe tbody tr th {\n",
       "        vertical-align: top;\n",
       "    }\n",
       "\n",
       "    .dataframe thead th {\n",
       "        text-align: right;\n",
       "    }\n",
       "</style>\n",
       "<table border=\"1\" class=\"dataframe\">\n",
       "  <thead>\n",
       "    <tr style=\"text-align: right;\">\n",
       "      <th></th>\n",
       "      <th>review</th>\n",
       "      <th>issue</th>\n",
       "      <th>best_matching_issue</th>\n",
       "    </tr>\n",
       "  </thead>\n",
       "  <tbody>\n",
       "    <tr>\n",
       "      <th>0</th>\n",
       "      <td>Enhance cleanliness in the patient rooms and c...</td>\n",
       "      <td>cleanliness</td>\n",
       "      <td>Lack of variety</td>\n",
       "    </tr>\n",
       "    <tr>\n",
       "      <th>1</th>\n",
       "      <td>Provide more diverse and nutritious meal optio...</td>\n",
       "      <td>diverse, nutritious meal options</td>\n",
       "      <td>To provide vegetarian options</td>\n",
       "    </tr>\n",
       "    <tr>\n",
       "      <th>2</th>\n",
       "      <td>Ensure that all medical staff consistently wea...</td>\n",
       "      <td>identification badges</td>\n",
       "      <td>irregular appointments</td>\n",
       "    </tr>\n",
       "    <tr>\n",
       "      <th>3</th>\n",
       "      <td>Improve the efficiency of the billing process ...</td>\n",
       "      <td>efficiency, billing process, unnecessary delays</td>\n",
       "      <td>None or unclear explanation of bill breakdown/...</td>\n",
       "    </tr>\n",
       "    <tr>\n",
       "      <th>4</th>\n",
       "      <td>Increase the frequency of nurse rounds, especi...</td>\n",
       "      <td>Increase frequency of nurse rounds</td>\n",
       "      <td>had to request nurses for help repeatedly</td>\n",
       "    </tr>\n",
       "  </tbody>\n",
       "</table>\n",
       "</div>"
      ],
      "text/plain": [
       "                                              review  \\\n",
       "0  Enhance cleanliness in the patient rooms and c...   \n",
       "1  Provide more diverse and nutritious meal optio...   \n",
       "2  Ensure that all medical staff consistently wea...   \n",
       "3  Improve the efficiency of the billing process ...   \n",
       "4  Increase the frequency of nurse rounds, especi...   \n",
       "\n",
       "                                             issue  \\\n",
       "0                                      cleanliness   \n",
       "1                 diverse, nutritious meal options   \n",
       "2                            identification badges   \n",
       "3  efficiency, billing process, unnecessary delays   \n",
       "4               Increase frequency of nurse rounds   \n",
       "\n",
       "                                 best_matching_issue  \n",
       "0                                    Lack of variety  \n",
       "1                      To provide vegetarian options  \n",
       "2                             irregular appointments  \n",
       "3  None or unclear explanation of bill breakdown/...  \n",
       "4          had to request nurses for help repeatedly  "
      ]
     },
     "execution_count": 19,
     "metadata": {},
     "output_type": "execute_result"
    }
   ],
   "source": [
    "df_reviews[['review', 'issue','best_matching_issue']].head()"
   ]
  },
  {
   "cell_type": "markdown",
   "metadata": {},
   "source": [
    "### Use embedding to map  Review to reference issue:"
   ]
  },
  {
   "cell_type": "code",
   "execution_count": 20,
   "metadata": {},
   "outputs": [],
   "source": [
    "# This may take a few minutes\n",
    "df_reviews[\"review_embedding\"] = df_reviews[\"review\"].apply(lambda x: get_embedding(str(x), model=embedding_model))\n"
   ]
  },
  {
   "cell_type": "code",
   "execution_count": 22,
   "metadata": {},
   "outputs": [],
   "source": [
    "# Convert embedding columns to numpy arrays\n",
    "review_embeddings = np.stack(df_reviews['review_embedding'].values)\n",
    "issue_embeddings_2 = np.stack(reference_df['issues_embedding'].values)\n",
    "\n",
    "# Compute cosine similarity\n",
    "similarity_matrix = cosine_similarity(review_embeddings, issue_embeddings_2)\n",
    "# Get the index of the best matching Subject-Issue pair for each review\n",
    "best_match_indices = np.argmax(similarity_matrix, axis=1)\n",
    "\n",
    "# Assign the best matching Subject-Issue pair to each review\n",
    "df_reviews['best_matching_review_issue'] = reference_df.iloc[best_match_indices]['issue'].values"
   ]
  },
  {
   "cell_type": "code",
   "execution_count": 23,
   "metadata": {},
   "outputs": [
    {
     "data": {
      "text/html": [
       "<div>\n",
       "<style scoped>\n",
       "    .dataframe tbody tr th:only-of-type {\n",
       "        vertical-align: middle;\n",
       "    }\n",
       "\n",
       "    .dataframe tbody tr th {\n",
       "        vertical-align: top;\n",
       "    }\n",
       "\n",
       "    .dataframe thead th {\n",
       "        text-align: right;\n",
       "    }\n",
       "</style>\n",
       "<table border=\"1\" class=\"dataframe\">\n",
       "  <thead>\n",
       "    <tr style=\"text-align: right;\">\n",
       "      <th></th>\n",
       "      <th>review</th>\n",
       "      <th>issue</th>\n",
       "      <th>best_matching_issue</th>\n",
       "      <th>best_matching_review_issue</th>\n",
       "    </tr>\n",
       "  </thead>\n",
       "  <tbody>\n",
       "    <tr>\n",
       "      <th>0</th>\n",
       "      <td>Enhance cleanliness in the patient rooms and c...</td>\n",
       "      <td>cleanliness</td>\n",
       "      <td>Lack of variety</td>\n",
       "      <td>Limit number of visitors to allow patients to ...</td>\n",
       "    </tr>\n",
       "    <tr>\n",
       "      <th>1</th>\n",
       "      <td>Provide more diverse and nutritious meal optio...</td>\n",
       "      <td>diverse, nutritious meal options</td>\n",
       "      <td>To provide vegetarian options</td>\n",
       "      <td>To provide vegetarian options</td>\n",
       "    </tr>\n",
       "    <tr>\n",
       "      <th>2</th>\n",
       "      <td>Ensure that all medical staff consistently wea...</td>\n",
       "      <td>identification badges</td>\n",
       "      <td>irregular appointments</td>\n",
       "      <td>Should not ask patients to make payment before...</td>\n",
       "    </tr>\n",
       "    <tr>\n",
       "      <th>3</th>\n",
       "      <td>Improve the efficiency of the billing process ...</td>\n",
       "      <td>efficiency, billing process, unnecessary delays</td>\n",
       "      <td>None or unclear explanation of bill breakdown/...</td>\n",
       "      <td>To provide update on payment process (eg. Appl...</td>\n",
       "    </tr>\n",
       "    <tr>\n",
       "      <th>4</th>\n",
       "      <td>Increase the frequency of nurse rounds, especi...</td>\n",
       "      <td>Increase frequency of nurse rounds</td>\n",
       "      <td>had to request nurses for help repeatedly</td>\n",
       "      <td>Lengthen service of shuttle bus and increase f...</td>\n",
       "    </tr>\n",
       "  </tbody>\n",
       "</table>\n",
       "</div>"
      ],
      "text/plain": [
       "                                              review  \\\n",
       "0  Enhance cleanliness in the patient rooms and c...   \n",
       "1  Provide more diverse and nutritious meal optio...   \n",
       "2  Ensure that all medical staff consistently wea...   \n",
       "3  Improve the efficiency of the billing process ...   \n",
       "4  Increase the frequency of nurse rounds, especi...   \n",
       "\n",
       "                                             issue  \\\n",
       "0                                      cleanliness   \n",
       "1                 diverse, nutritious meal options   \n",
       "2                            identification badges   \n",
       "3  efficiency, billing process, unnecessary delays   \n",
       "4               Increase frequency of nurse rounds   \n",
       "\n",
       "                                 best_matching_issue  \\\n",
       "0                                    Lack of variety   \n",
       "1                      To provide vegetarian options   \n",
       "2                             irregular appointments   \n",
       "3  None or unclear explanation of bill breakdown/...   \n",
       "4          had to request nurses for help repeatedly   \n",
       "\n",
       "                          best_matching_review_issue  \n",
       "0  Limit number of visitors to allow patients to ...  \n",
       "1                      To provide vegetarian options  \n",
       "2  Should not ask patients to make payment before...  \n",
       "3  To provide update on payment process (eg. Appl...  \n",
       "4  Lengthen service of shuttle bus and increase f...  "
      ]
     },
     "execution_count": 23,
     "metadata": {},
     "output_type": "execute_result"
    }
   ],
   "source": [
    "df_reviews[['review', 'issue','best_matching_issue','best_matching_review_issue']].head()"
   ]
  },
  {
   "cell_type": "code",
   "execution_count": 24,
   "metadata": {},
   "outputs": [],
   "source": [
    "df_reviews[['review', 'issue','best_matching_issue','best_matching_review_issue']].to_csv(\"processed_reviews.csv\", index=False)"
   ]
  },
  {
   "cell_type": "code",
   "execution_count": null,
   "metadata": {},
   "outputs": [],
   "source": []
  }
 ],
 "metadata": {
  "kernelspec": {
   "display_name": "Python 3 (ipykernel)",
   "language": "python",
   "name": "python3"
  },
  "language_info": {
   "codemirror_mode": {
    "name": "ipython",
    "version": 3
   },
   "file_extension": ".py",
   "mimetype": "text/x-python",
   "name": "python",
   "nbconvert_exporter": "python",
   "pygments_lexer": "ipython3",
   "version": "3.9.6"
  }
 },
 "nbformat": 4,
 "nbformat_minor": 2
}
